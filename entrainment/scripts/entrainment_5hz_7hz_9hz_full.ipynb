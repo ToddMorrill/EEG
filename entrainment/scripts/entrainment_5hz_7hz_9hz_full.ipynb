{
 "cells": [
  {
   "cell_type": "markdown",
   "metadata": {},
   "source": [
    "## Entrainment Movie Generator\n",
    "- creates a movie of flashing lights and allows users to set the desired hz, the duration of the clip, etc."
   ]
  },
  {
   "cell_type": "code",
   "execution_count": 1,
   "metadata": {
    "collapsed": true
   },
   "outputs": [],
   "source": [
    "import matplotlib.animation as animation\n",
    "import matplotlib.pyplot as plt \n",
    "import numpy as np\n",
    "import time"
   ]
  },
  {
   "cell_type": "code",
   "execution_count": 2,
   "metadata": {
    "collapsed": false
   },
   "outputs": [],
   "source": [
    "desired_hz = [5,7,9] # can be a list of length 1 if you only want one frequency\n",
    "# optional param if you were viewing the data in jupyter notebook: interval = 1000./desired_hz\n",
    "clip_duration = 60 # seconds\n",
    "frame_rate = 60 # higher frame rates improve the approximation of the frequency but most laptops have 60Hz refresh rate\n",
    "frame_count = clip_duration * frame_rate # important for the duration of the video\n",
    "# macbook pro 2016 retina pixel values\n",
    "height = 1800 / 120 # smaller arrays will write MUCH faster\n",
    "width = 2880 / 120 "
   ]
  },
  {
   "cell_type": "code",
   "execution_count": 3,
   "metadata": {
    "collapsed": false
   },
   "outputs": [],
   "source": [
    "def init():\n",
    "    \"\"\"initialization function for first frame\"\"\"\n",
    "    im.set_data(np.zeros((height,width)))\n",
    "    return im,    "
   ]
  },
  {
   "cell_type": "code",
   "execution_count": 4,
   "metadata": {
    "collapsed": true
   },
   "outputs": [],
   "source": [
    "def update_img(frame_n):\n",
    "    \"\"\"take as input a new frame and set that that new frame to the AxesImage object\"\"\"\n",
    "    im.set_data(frame_n)\n",
    "    return im,"
   ]
  },
  {
   "cell_type": "code",
   "execution_count": 5,
   "metadata": {
    "collapsed": true
   },
   "outputs": [],
   "source": [
    "def approximate_hz(desired_hz=desired_hz, frame_rate=frame_rate):\n",
    "    \"\"\"finds the closest frequency that can be approximated given frame_rate (FPS)\"\"\"\n",
    "    # need an approximation due to the frame rate not being divisible by the frequency\n",
    "    closest_approx = []\n",
    "    for hz in desired_hz:        \n",
    "        temp = []\n",
    "        for i in range(1,frame_rate+1):\n",
    "            temp.append(abs(1/float(hz) - (i*1)/float(frame_rate)))\n",
    "        closest_approx.append((temp.index(min(temp))+1) / 2) # \"/2\" was important to ensure the switches occur quickly (e.g. 2x)\n",
    "    \n",
    "    return closest_approx"
   ]
  },
  {
   "cell_type": "code",
   "execution_count": 6,
   "metadata": {
    "collapsed": true
   },
   "outputs": [],
   "source": [
    "def hz_switch_point(frame_count=frame_count, desired_hz=desired_hz):\n",
    "    \"\"\"creates equal length segments for each frequency in desired_hz\"\"\"\n",
    "    hz_switch_point_frame = frame_count / len(desired_hz) # will be used in the modulus\n",
    "    \n",
    "    return hz_switch_point_frame"
   ]
  },
  {
   "cell_type": "code",
   "execution_count": 7,
   "metadata": {
    "collapsed": false
   },
   "outputs": [],
   "source": [
    "def frame_gen(frame_count=frame_count, frame_rate=frame_rate, desired_hz=desired_hz):\n",
    "    \"\"\"generates a new frame every time it is called, keeping track of where the video is across different\n",
    "    frequencies and when to switch from black to white\"\"\"\n",
    "    closest_approx = approximate_hz(desired_hz=desired_hz, frame_rate=frame_rate)\n",
    "    hz_switch_point_frame = hz_switch_point(frame_count=frame_count, desired_hz=desired_hz)\n",
    "    \n",
    "    current_frequency = -1 # zeroeth index of desired_hz (gets incremented by one in modulus in first run)\n",
    "    on = True\n",
    "    i = 0\n",
    "    while True:\n",
    "        if i % hz_switch_point_frame == 0:\n",
    "            current_frequency +=1 # incremented by one in the first run\n",
    "        # black\n",
    "        if i % (closest_approx[current_frequency]) == 0:\n",
    "            on = not on\n",
    "            np_array = np.ones((height, width),dtype=int) * on # switch from black to white\n",
    "            i += 1\n",
    "            yield np_array\n",
    "        # white\n",
    "        else:\n",
    "            i += 1\n",
    "            yield np_array"
   ]
  },
  {
   "cell_type": "code",
   "execution_count": 8,
   "metadata": {
    "collapsed": false
   },
   "outputs": [],
   "source": [
    "fig,ax = plt.subplots()\n",
    "fig.subplots_adjust(left=0, bottom=0, right=1, top=1, wspace=0, hspace=0)\n",
    "ax.axis('off')\n",
    "im = ax.imshow(np.ones((height,width)),cmap='gray',vmin=0,vmax=1, interpolation='nearest',aspect=\"auto\")"
   ]
  },
  {
   "cell_type": "code",
   "execution_count": 9,
   "metadata": {
    "collapsed": false
   },
   "outputs": [
    {
     "name": "stdout",
     "output_type": "stream",
     "text": [
      "42.2335650921\n"
     ]
    }
   ],
   "source": [
    "start = time.time()\n",
    "ani = animation.FuncAnimation(fig=fig, func=update_img, frames=frame_gen, init_func=init, blit=True, \\\n",
    "                              save_count=frame_count) # save count is the number of times to call the frame_gen\n",
    "writer = animation.writers['ffmpeg'](fps=frame_rate)\n",
    "\n",
    "ani.save('../data/5_7_9hz_full.mp4',writer=writer,dpi=100)\n",
    "\n",
    "print time.time() - start"
   ]
  }
 ],
 "metadata": {
  "kernelspec": {
   "display_name": "Python 2",
   "language": "python",
   "name": "python2"
  },
  "language_info": {
   "codemirror_mode": {
    "name": "ipython",
    "version": 2
   },
   "file_extension": ".py",
   "mimetype": "text/x-python",
   "name": "python",
   "nbconvert_exporter": "python",
   "pygments_lexer": "ipython2",
   "version": "2.7.13"
  }
 },
 "nbformat": 4,
 "nbformat_minor": 0
}
